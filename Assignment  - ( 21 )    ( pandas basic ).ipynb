{
 "cells": [
  {
   "cell_type": "code",
   "execution_count": 1,
   "id": "f192908c",
   "metadata": {},
   "outputs": [
    {
     "name": "stdout",
     "output_type": "stream",
     "text": [
      "Requirement already satisfied: pandas in c:\\users\\acer\\appdata\\local\\programs\\python\\python311\\lib\\site-packages (1.5.2)\n",
      "Requirement already satisfied: python-dateutil>=2.8.1 in c:\\users\\acer\\appdata\\roaming\\python\\python311\\site-packages (from pandas) (2.8.2)\n",
      "Requirement already satisfied: pytz>=2020.1 in c:\\users\\acer\\appdata\\local\\programs\\python\\python311\\lib\\site-packages (from pandas) (2022.6)\n",
      "Requirement already satisfied: numpy>=1.21.0 in c:\\users\\acer\\appdata\\local\\programs\\python\\python311\\lib\\site-packages (from pandas) (1.23.5)\n",
      "Requirement already satisfied: six>=1.5 in c:\\users\\acer\\appdata\\roaming\\python\\python311\\site-packages (from python-dateutil>=2.8.1->pandas) (1.16.0)\n",
      "Note: you may need to restart the kernel to use updated packages.\n"
     ]
    },
    {
     "name": "stderr",
     "output_type": "stream",
     "text": [
      "\n",
      "[notice] A new release of pip available: 22.3 -> 23.1.2\n",
      "[notice] To update, run: python.exe -m pip install --upgrade pip\n"
     ]
    }
   ],
   "source": [
    "pip install pandas"
   ]
  },
  {
   "cell_type": "markdown",
   "id": "d2bc9e29",
   "metadata": {},
   "source": [
    "Q1. Create a Pandas Series that contains the following data: 4, 8, 15, 16, 23,     and 42. Then, print the series."
   ]
  },
  {
   "cell_type": "code",
   "execution_count": 2,
   "id": "8112396f",
   "metadata": {},
   "outputs": [],
   "source": [
    "import pandas as pd"
   ]
  },
  {
   "cell_type": "code",
   "execution_count": 3,
   "id": "768c17de",
   "metadata": {},
   "outputs": [],
   "source": [
    "panda_series = 4, 8, 15, 16, 23, 42"
   ]
  },
  {
   "cell_type": "code",
   "execution_count": 4,
   "id": "22657cd9",
   "metadata": {},
   "outputs": [],
   "source": [
    "new_series = pd.Series(panda_series)"
   ]
  },
  {
   "cell_type": "code",
   "execution_count": 5,
   "id": "a45ebd6b",
   "metadata": {},
   "outputs": [
    {
     "data": {
      "text/plain": [
       "0     4\n",
       "1     8\n",
       "2    15\n",
       "3    16\n",
       "4    23\n",
       "5    42\n",
       "dtype: int64"
      ]
     },
     "execution_count": 5,
     "metadata": {},
     "output_type": "execute_result"
    }
   ],
   "source": [
    "new_series"
   ]
  },
  {
   "cell_type": "markdown",
   "id": "2a550c7f",
   "metadata": {},
   "source": [
    "Q2. Create a variable of list type containing 10 elements in it, and apply         pandas.Series function on the variable print it."
   ]
  },
  {
   "cell_type": "code",
   "execution_count": 6,
   "id": "98394c0c",
   "metadata": {},
   "outputs": [],
   "source": [
    "py_variable = [\n",
    "    \"Amit\", \"sweta\", \"shivani\", \"Ashish\", \"kajal\", 1, 5, 9,\n",
    "               {\"shubham\":\"kumar\"}, {\"Amit\":\"sweta\"}\n",
    "]"
   ]
  },
  {
   "cell_type": "code",
   "execution_count": 7,
   "id": "74b79a65",
   "metadata": {},
   "outputs": [],
   "source": [
    "py_variable2 = pd.Series(py_variable)"
   ]
  },
  {
   "cell_type": "code",
   "execution_count": 8,
   "id": "5a20539a",
   "metadata": {},
   "outputs": [
    {
     "name": "stdout",
     "output_type": "stream",
     "text": [
      "0                    Amit\n",
      "1                   sweta\n",
      "2                 shivani\n",
      "3                  Ashish\n",
      "4                   kajal\n",
      "5                       1\n",
      "6                       5\n",
      "7                       9\n",
      "8    {'shubham': 'kumar'}\n",
      "9       {'Amit': 'sweta'}\n",
      "dtype: object\n"
     ]
    }
   ],
   "source": [
    "print(py_variable2)"
   ]
  },
  {
   "cell_type": "markdown",
   "id": "b609d9e2",
   "metadata": {},
   "source": [
    "Q3. Create a Pandas DataFrame that contains the following data:"
   ]
  },
  {
   "cell_type": "code",
   "execution_count": 9,
   "id": "1cba8d69",
   "metadata": {},
   "outputs": [],
   "source": [
    "df = {\n",
    "    \"Name\":[\"Alice\",\"Bob\",\"claire\"], \"Age\":[25,30,27], \"Gender\":[\"Female\",\"Male\",\"Female\"]\n",
    "}"
   ]
  },
  {
   "cell_type": "code",
   "execution_count": 10,
   "id": "d02024ea",
   "metadata": {},
   "outputs": [],
   "source": [
    "df2 = pd.DataFrame(df)"
   ]
  },
  {
   "cell_type": "code",
   "execution_count": 11,
   "id": "fb462ea9",
   "metadata": {},
   "outputs": [
    {
     "data": {
      "text/html": [
       "<div>\n",
       "<style scoped>\n",
       "    .dataframe tbody tr th:only-of-type {\n",
       "        vertical-align: middle;\n",
       "    }\n",
       "\n",
       "    .dataframe tbody tr th {\n",
       "        vertical-align: top;\n",
       "    }\n",
       "\n",
       "    .dataframe thead th {\n",
       "        text-align: right;\n",
       "    }\n",
       "</style>\n",
       "<table border=\"1\" class=\"dataframe\">\n",
       "  <thead>\n",
       "    <tr style=\"text-align: right;\">\n",
       "      <th></th>\n",
       "      <th>Name</th>\n",
       "      <th>Age</th>\n",
       "      <th>Gender</th>\n",
       "    </tr>\n",
       "  </thead>\n",
       "  <tbody>\n",
       "    <tr>\n",
       "      <th>0</th>\n",
       "      <td>Alice</td>\n",
       "      <td>25</td>\n",
       "      <td>Female</td>\n",
       "    </tr>\n",
       "    <tr>\n",
       "      <th>1</th>\n",
       "      <td>Bob</td>\n",
       "      <td>30</td>\n",
       "      <td>Male</td>\n",
       "    </tr>\n",
       "    <tr>\n",
       "      <th>2</th>\n",
       "      <td>claire</td>\n",
       "      <td>27</td>\n",
       "      <td>Female</td>\n",
       "    </tr>\n",
       "  </tbody>\n",
       "</table>\n",
       "</div>"
      ],
      "text/plain": [
       "     Name  Age  Gender\n",
       "0   Alice   25  Female\n",
       "1     Bob   30    Male\n",
       "2  claire   27  Female"
      ]
     },
     "execution_count": 11,
     "metadata": {},
     "output_type": "execute_result"
    }
   ],
   "source": [
    "df2"
   ]
  },
  {
   "cell_type": "markdown",
   "id": "3f1a6444",
   "metadata": {},
   "source": [
    "Q4. What is ‘DataFrame’ in pandas and how is it different from pandas.series?       Explain with an example."
   ]
  },
  {
   "cell_type": "markdown",
   "id": "866cd7e9",
   "metadata": {},
   "source": [
    "Ans:In Pandas, a DataFrame is a two-dimensional labeled data structure,             consisting of rows and columns, similar to a spreadsheet or a SQL table. It     is the most commonly used Pandas object and is used to manipulate and           analyze data in Python.\n",
    "\n",
    "    On the other hand, a Series is a one-dimensional labeled data structure in     Pandas. It can be thought of as a single column of data from a DataFrame.\n",
    "\n",
    "    is an example to illustrate the difference between a DataFrame and a Series     in Pandas:\n",
    "\n",
    "    Suppose we have the following data about the population of different           cities:"
   ]
  },
  {
   "cell_type": "code",
   "execution_count": 12,
   "id": "7374c237",
   "metadata": {},
   "outputs": [],
   "source": [
    "data = {\n",
    "    \"City\":[\"New York\", \"Los Angeles\", \"Chicago\", \"Houston\", \"Phoenix\"],\n",
    "    \"Population\":[8336817,3979576,2693976,2320268,1680992]\n",
    "}"
   ]
  },
  {
   "cell_type": "code",
   "execution_count": 13,
   "id": "67592c7d",
   "metadata": {},
   "outputs": [],
   "source": [
    "df = pd.DataFrame(data)"
   ]
  },
  {
   "cell_type": "code",
   "execution_count": 14,
   "id": "399fdf8c",
   "metadata": {},
   "outputs": [
    {
     "data": {
      "text/html": [
       "<div>\n",
       "<style scoped>\n",
       "    .dataframe tbody tr th:only-of-type {\n",
       "        vertical-align: middle;\n",
       "    }\n",
       "\n",
       "    .dataframe tbody tr th {\n",
       "        vertical-align: top;\n",
       "    }\n",
       "\n",
       "    .dataframe thead th {\n",
       "        text-align: right;\n",
       "    }\n",
       "</style>\n",
       "<table border=\"1\" class=\"dataframe\">\n",
       "  <thead>\n",
       "    <tr style=\"text-align: right;\">\n",
       "      <th></th>\n",
       "      <th>City</th>\n",
       "      <th>Population</th>\n",
       "    </tr>\n",
       "  </thead>\n",
       "  <tbody>\n",
       "    <tr>\n",
       "      <th>0</th>\n",
       "      <td>New York</td>\n",
       "      <td>8336817</td>\n",
       "    </tr>\n",
       "    <tr>\n",
       "      <th>1</th>\n",
       "      <td>Los Angeles</td>\n",
       "      <td>3979576</td>\n",
       "    </tr>\n",
       "    <tr>\n",
       "      <th>2</th>\n",
       "      <td>Chicago</td>\n",
       "      <td>2693976</td>\n",
       "    </tr>\n",
       "    <tr>\n",
       "      <th>3</th>\n",
       "      <td>Houston</td>\n",
       "      <td>2320268</td>\n",
       "    </tr>\n",
       "    <tr>\n",
       "      <th>4</th>\n",
       "      <td>Phoenix</td>\n",
       "      <td>1680992</td>\n",
       "    </tr>\n",
       "  </tbody>\n",
       "</table>\n",
       "</div>"
      ],
      "text/plain": [
       "          City  Population\n",
       "0     New York     8336817\n",
       "1  Los Angeles     3979576\n",
       "2      Chicago     2693976\n",
       "3      Houston     2320268\n",
       "4      Phoenix     1680992"
      ]
     },
     "execution_count": 14,
     "metadata": {},
     "output_type": "execute_result"
    }
   ],
   "source": [
    "df"
   ]
  },
  {
   "cell_type": "code",
   "execution_count": 15,
   "id": "fb0344e7",
   "metadata": {},
   "outputs": [],
   "source": [
    "df2 = pd.Series(data)"
   ]
  },
  {
   "cell_type": "code",
   "execution_count": 16,
   "id": "f51eeef9",
   "metadata": {},
   "outputs": [
    {
     "data": {
      "text/plain": [
       "City          [New York, Los Angeles, Chicago, Houston, Phoe...\n",
       "Population        [8336817, 3979576, 2693976, 2320268, 1680992]\n",
       "dtype: object"
      ]
     },
     "execution_count": 16,
     "metadata": {},
     "output_type": "execute_result"
    }
   ],
   "source": [
    "df2"
   ]
  },
  {
   "cell_type": "markdown",
   "id": "9ff9ad96",
   "metadata": {},
   "source": [
    "Q5. What are some common functions you can use to manipulate data in a Pandas       DataFrame? Can you give an example of when you might use one of these           functions?\n",
    "\n",
    "Ans: Pandas DataFrame provides many functions to manipulate data. Here are some      common functions that are frequently used:\n",
    "  \n",
    "head() and tail(): These functions return the first and last n rows of the                        DataFrame, respectively. They are useful to get a quick                        overview of the data.\n",
    "\n",
    "describe(): This function returns various summary statistics of the numerical               columns in the DataFrame, such as mean, standard deviation,                     minimum, maximum, etc.\n",
    "\n",
    "info(): This function returns the information about the DataFrame, such as the         number of rows and columns, data types of columns, memory usage, etc.\n",
    "\n",
    "drop(): This function is used to drop specified labels from rows or columns of         the DataFrame. For example, if we want to drop the \"Population\" column         from the DataFrame in the previous example, we can use the following           code:\n",
    "\n",
    "This will drop the population."
   ]
  },
  {
   "cell_type": "code",
   "execution_count": 17,
   "id": "b39169a3",
   "metadata": {},
   "outputs": [],
   "source": [
    "data = {\n",
    "    \"City\":[\"New York\", \"Los Angeles\", \"Chicago\", \"Houston\", \"Phoenix\"],\n",
    "    \"Population\":[8336817,3979576,2693976,2320268,1680992]\n",
    "}"
   ]
  },
  {
   "cell_type": "code",
   "execution_count": 18,
   "id": "e268684a",
   "metadata": {},
   "outputs": [],
   "source": [
    "df = pd.DataFrame(data)"
   ]
  },
  {
   "cell_type": "code",
   "execution_count": 19,
   "id": "4669d6b1",
   "metadata": {},
   "outputs": [
    {
     "data": {
      "text/html": [
       "<div>\n",
       "<style scoped>\n",
       "    .dataframe tbody tr th:only-of-type {\n",
       "        vertical-align: middle;\n",
       "    }\n",
       "\n",
       "    .dataframe tbody tr th {\n",
       "        vertical-align: top;\n",
       "    }\n",
       "\n",
       "    .dataframe thead th {\n",
       "        text-align: right;\n",
       "    }\n",
       "</style>\n",
       "<table border=\"1\" class=\"dataframe\">\n",
       "  <thead>\n",
       "    <tr style=\"text-align: right;\">\n",
       "      <th></th>\n",
       "      <th>City</th>\n",
       "      <th>Population</th>\n",
       "    </tr>\n",
       "  </thead>\n",
       "  <tbody>\n",
       "    <tr>\n",
       "      <th>0</th>\n",
       "      <td>New York</td>\n",
       "      <td>8336817</td>\n",
       "    </tr>\n",
       "    <tr>\n",
       "      <th>1</th>\n",
       "      <td>Los Angeles</td>\n",
       "      <td>3979576</td>\n",
       "    </tr>\n",
       "    <tr>\n",
       "      <th>2</th>\n",
       "      <td>Chicago</td>\n",
       "      <td>2693976</td>\n",
       "    </tr>\n",
       "    <tr>\n",
       "      <th>3</th>\n",
       "      <td>Houston</td>\n",
       "      <td>2320268</td>\n",
       "    </tr>\n",
       "    <tr>\n",
       "      <th>4</th>\n",
       "      <td>Phoenix</td>\n",
       "      <td>1680992</td>\n",
       "    </tr>\n",
       "  </tbody>\n",
       "</table>\n",
       "</div>"
      ],
      "text/plain": [
       "          City  Population\n",
       "0     New York     8336817\n",
       "1  Los Angeles     3979576\n",
       "2      Chicago     2693976\n",
       "3      Houston     2320268\n",
       "4      Phoenix     1680992"
      ]
     },
     "execution_count": 19,
     "metadata": {},
     "output_type": "execute_result"
    }
   ],
   "source": [
    "df"
   ]
  },
  {
   "cell_type": "code",
   "execution_count": 21,
   "id": "0d82da8e",
   "metadata": {},
   "outputs": [],
   "source": [
    "df.drop('Population', axis=1, inplace=True)"
   ]
  },
  {
   "cell_type": "code",
   "execution_count": 22,
   "id": "65469666",
   "metadata": {},
   "outputs": [
    {
     "data": {
      "text/html": [
       "<div>\n",
       "<style scoped>\n",
       "    .dataframe tbody tr th:only-of-type {\n",
       "        vertical-align: middle;\n",
       "    }\n",
       "\n",
       "    .dataframe tbody tr th {\n",
       "        vertical-align: top;\n",
       "    }\n",
       "\n",
       "    .dataframe thead th {\n",
       "        text-align: right;\n",
       "    }\n",
       "</style>\n",
       "<table border=\"1\" class=\"dataframe\">\n",
       "  <thead>\n",
       "    <tr style=\"text-align: right;\">\n",
       "      <th></th>\n",
       "      <th>City</th>\n",
       "    </tr>\n",
       "  </thead>\n",
       "  <tbody>\n",
       "    <tr>\n",
       "      <th>0</th>\n",
       "      <td>New York</td>\n",
       "    </tr>\n",
       "    <tr>\n",
       "      <th>1</th>\n",
       "      <td>Los Angeles</td>\n",
       "    </tr>\n",
       "    <tr>\n",
       "      <th>2</th>\n",
       "      <td>Chicago</td>\n",
       "    </tr>\n",
       "    <tr>\n",
       "      <th>3</th>\n",
       "      <td>Houston</td>\n",
       "    </tr>\n",
       "    <tr>\n",
       "      <th>4</th>\n",
       "      <td>Phoenix</td>\n",
       "    </tr>\n",
       "  </tbody>\n",
       "</table>\n",
       "</div>"
      ],
      "text/plain": [
       "          City\n",
       "0     New York\n",
       "1  Los Angeles\n",
       "2      Chicago\n",
       "3      Houston\n",
       "4      Phoenix"
      ]
     },
     "execution_count": 22,
     "metadata": {},
     "output_type": "execute_result"
    }
   ],
   "source": [
    "df"
   ]
  },
  {
   "cell_type": "markdown",
   "id": "38a7865e",
   "metadata": {},
   "source": [
    "This will drop the \"Population\" column from the DataFrame in place.\n",
    "\n",
    "sort_values(): This function is used to sort the DataFrame by one or more              columns. For example, if we want to sort the DataFrame by the \"City\" column in ascending order, we can use the following code:"
   ]
  },
  {
   "cell_type": "code",
   "execution_count": 27,
   "id": "9361aec0",
   "metadata": {},
   "outputs": [],
   "source": [
    "df.sort_values(by='City',inplace=True)"
   ]
  },
  {
   "cell_type": "code",
   "execution_count": 28,
   "id": "430ee935",
   "metadata": {},
   "outputs": [
    {
     "data": {
      "text/html": [
       "<div>\n",
       "<style scoped>\n",
       "    .dataframe tbody tr th:only-of-type {\n",
       "        vertical-align: middle;\n",
       "    }\n",
       "\n",
       "    .dataframe tbody tr th {\n",
       "        vertical-align: top;\n",
       "    }\n",
       "\n",
       "    .dataframe thead th {\n",
       "        text-align: right;\n",
       "    }\n",
       "</style>\n",
       "<table border=\"1\" class=\"dataframe\">\n",
       "  <thead>\n",
       "    <tr style=\"text-align: right;\">\n",
       "      <th></th>\n",
       "      <th>City</th>\n",
       "    </tr>\n",
       "  </thead>\n",
       "  <tbody>\n",
       "    <tr>\n",
       "      <th>2</th>\n",
       "      <td>Chicago</td>\n",
       "    </tr>\n",
       "    <tr>\n",
       "      <th>3</th>\n",
       "      <td>Houston</td>\n",
       "    </tr>\n",
       "    <tr>\n",
       "      <th>1</th>\n",
       "      <td>Los Angeles</td>\n",
       "    </tr>\n",
       "    <tr>\n",
       "      <th>0</th>\n",
       "      <td>New York</td>\n",
       "    </tr>\n",
       "    <tr>\n",
       "      <th>4</th>\n",
       "      <td>Phoenix</td>\n",
       "    </tr>\n",
       "  </tbody>\n",
       "</table>\n",
       "</div>"
      ],
      "text/plain": [
       "          City\n",
       "2      Chicago\n",
       "3      Houston\n",
       "1  Los Angeles\n",
       "0     New York\n",
       "4      Phoenix"
      ]
     },
     "execution_count": 28,
     "metadata": {},
     "output_type": "execute_result"
    }
   ],
   "source": [
    "df"
   ]
  },
  {
   "cell_type": "markdown",
   "id": "ab6e4652",
   "metadata": {},
   "source": [
    "This will sort the DataFrame by the \"City\" column in ascending order.\n",
    "\n",
    "groupby(): This function is used to group the DataFrame by one or more columns and apply a function on each group. For example, if we want to calculate the average population for each state in the DataFrame, we can use the following code:"
   ]
  },
  {
   "cell_type": "code",
   "execution_count": 32,
   "id": "c3aca159",
   "metadata": {},
   "outputs": [],
   "source": [
    "data = {\n",
    "    \"City\":[\"New York\", \"Los Angeles\", \"Chicago\", \"Houston\", \"Phoenix\"],\n",
    "    \"Population\":[8336817,3979576,2693976,2320268,1680992]\n",
    "}"
   ]
  },
  {
   "cell_type": "code",
   "execution_count": 33,
   "id": "0d689794",
   "metadata": {},
   "outputs": [],
   "source": [
    "df = pd.DataFrame(data)"
   ]
  },
  {
   "cell_type": "code",
   "execution_count": 34,
   "id": "f9dee101",
   "metadata": {},
   "outputs": [
    {
     "data": {
      "text/html": [
       "<div>\n",
       "<style scoped>\n",
       "    .dataframe tbody tr th:only-of-type {\n",
       "        vertical-align: middle;\n",
       "    }\n",
       "\n",
       "    .dataframe tbody tr th {\n",
       "        vertical-align: top;\n",
       "    }\n",
       "\n",
       "    .dataframe thead th {\n",
       "        text-align: right;\n",
       "    }\n",
       "</style>\n",
       "<table border=\"1\" class=\"dataframe\">\n",
       "  <thead>\n",
       "    <tr style=\"text-align: right;\">\n",
       "      <th></th>\n",
       "      <th>City</th>\n",
       "      <th>Population</th>\n",
       "    </tr>\n",
       "  </thead>\n",
       "  <tbody>\n",
       "    <tr>\n",
       "      <th>0</th>\n",
       "      <td>New York</td>\n",
       "      <td>8336817</td>\n",
       "    </tr>\n",
       "    <tr>\n",
       "      <th>1</th>\n",
       "      <td>Los Angeles</td>\n",
       "      <td>3979576</td>\n",
       "    </tr>\n",
       "    <tr>\n",
       "      <th>2</th>\n",
       "      <td>Chicago</td>\n",
       "      <td>2693976</td>\n",
       "    </tr>\n",
       "    <tr>\n",
       "      <th>3</th>\n",
       "      <td>Houston</td>\n",
       "      <td>2320268</td>\n",
       "    </tr>\n",
       "    <tr>\n",
       "      <th>4</th>\n",
       "      <td>Phoenix</td>\n",
       "      <td>1680992</td>\n",
       "    </tr>\n",
       "  </tbody>\n",
       "</table>\n",
       "</div>"
      ],
      "text/plain": [
       "          City  Population\n",
       "0     New York     8336817\n",
       "1  Los Angeles     3979576\n",
       "2      Chicago     2693976\n",
       "3      Houston     2320268\n",
       "4      Phoenix     1680992"
      ]
     },
     "execution_count": 34,
     "metadata": {},
     "output_type": "execute_result"
    }
   ],
   "source": [
    "df"
   ]
  },
  {
   "cell_type": "code",
   "execution_count": 37,
   "id": "381fa4e5",
   "metadata": {},
   "outputs": [],
   "source": [
    "state_pop = df.groupby('City')['Population'].mean()"
   ]
  },
  {
   "cell_type": "code",
   "execution_count": 38,
   "id": "ae271bd7",
   "metadata": {},
   "outputs": [
    {
     "data": {
      "text/plain": [
       "City\n",
       "Chicago        2693976.0\n",
       "Houston        2320268.0\n",
       "Los Angeles    3979576.0\n",
       "New York       8336817.0\n",
       "Phoenix        1680992.0\n",
       "Name: Population, dtype: float64"
      ]
     },
     "execution_count": 38,
     "metadata": {},
     "output_type": "execute_result"
    }
   ],
   "source": [
    "state_pop"
   ]
  },
  {
   "cell_type": "markdown",
   "id": "1d82dd26",
   "metadata": {},
   "source": [
    "merge(): This function is used to merge two or more DataFrames based on a common column. For example, if we have two DataFrames - one with population data and another with GDP data - and we want to merge them based on the \"City\" column."
   ]
  },
  {
   "cell_type": "markdown",
   "id": "98f267e1",
   "metadata": {},
   "source": [
    "Q6. Which of the following is mutable in nature Series, DataFrame, Panel?\n",
    "\n",
    "Ans: \n",
    "In Pandas, both Series and DataFrame are mutable in nature, whereas Panel is not mutable.\n",
    "\n",
    "When a Series or DataFrame object is modified, the changes are made in place, and the original object is modified. This means that any changes made to a Series or DataFrame object will be reflected in the original object.\n",
    "\n",
    "On the other hand, Panel is an immutable data structure in Pandas, which means that any modification to a Panel object will create a new object instead of modifying the original one. As a result, Panels are less commonly used compared to Series and DataFrame in Pandas.\n",
    "\n",
    "However, it is worth noting that Panel has been deprecated since Pandas version 0.25.0 and has been replaced by the more general MultiIndex objects."
   ]
  },
  {
   "cell_type": "markdown",
   "id": "88ccae90",
   "metadata": {},
   "source": [
    "Q7. Create a DataFrame using multiple Series. Explain with an example.\n",
    "\n",
    "Ans: To create a DataFrame using multiple Series, we can pass a dictionary where the keys are the column names, and the values are the Series objects. Here is an example:"
   ]
  },
  {
   "cell_type": "code",
   "execution_count": 1,
   "id": "80349fe1",
   "metadata": {},
   "outputs": [],
   "source": [
    "import pandas as pd\n",
    "\n",
    "Data1 = pd.Series([25, 28, 30])\n",
    "\n",
    "Data2 = pd.Series([60, 65, 70])\n",
    "\n",
    "Data3 = pd.Series([\"Amit\", \"Sweta\", \"Kunal\"])\n",
    "\n",
    "df = {\n",
    "    'Day1':Data1, 'Day2':Data2, 'Day3':Data3\n",
    "}\n",
    "\n",
    "new_df = pd.DataFrame(df)"
   ]
  },
  {
   "cell_type": "code",
   "execution_count": 2,
   "id": "7b6f0b79",
   "metadata": {},
   "outputs": [
    {
     "data": {
      "text/html": [
       "<div>\n",
       "<style scoped>\n",
       "    .dataframe tbody tr th:only-of-type {\n",
       "        vertical-align: middle;\n",
       "    }\n",
       "\n",
       "    .dataframe tbody tr th {\n",
       "        vertical-align: top;\n",
       "    }\n",
       "\n",
       "    .dataframe thead th {\n",
       "        text-align: right;\n",
       "    }\n",
       "</style>\n",
       "<table border=\"1\" class=\"dataframe\">\n",
       "  <thead>\n",
       "    <tr style=\"text-align: right;\">\n",
       "      <th></th>\n",
       "      <th>Day1</th>\n",
       "      <th>Day2</th>\n",
       "      <th>Day3</th>\n",
       "    </tr>\n",
       "  </thead>\n",
       "  <tbody>\n",
       "    <tr>\n",
       "      <th>0</th>\n",
       "      <td>25</td>\n",
       "      <td>60</td>\n",
       "      <td>Amit</td>\n",
       "    </tr>\n",
       "    <tr>\n",
       "      <th>1</th>\n",
       "      <td>28</td>\n",
       "      <td>65</td>\n",
       "      <td>Sweta</td>\n",
       "    </tr>\n",
       "    <tr>\n",
       "      <th>2</th>\n",
       "      <td>30</td>\n",
       "      <td>70</td>\n",
       "      <td>Kunal</td>\n",
       "    </tr>\n",
       "  </tbody>\n",
       "</table>\n",
       "</div>"
      ],
      "text/plain": [
       "   Day1  Day2   Day3\n",
       "0    25    60   Amit\n",
       "1    28    65  Sweta\n",
       "2    30    70  Kunal"
      ]
     },
     "execution_count": 2,
     "metadata": {},
     "output_type": "execute_result"
    }
   ],
   "source": [
    "new_df"
   ]
  },
  {
   "cell_type": "code",
   "execution_count": null,
   "id": "769d9f48",
   "metadata": {},
   "outputs": [],
   "source": []
  }
 ],
 "metadata": {
  "kernelspec": {
   "display_name": "Python 3 (ipykernel)",
   "language": "python",
   "name": "python3"
  },
  "language_info": {
   "codemirror_mode": {
    "name": "ipython",
    "version": 3
   },
   "file_extension": ".py",
   "mimetype": "text/x-python",
   "name": "python",
   "nbconvert_exporter": "python",
   "pygments_lexer": "ipython3",
   "version": "3.11.0"
  }
 },
 "nbformat": 4,
 "nbformat_minor": 5
}
